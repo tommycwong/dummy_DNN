{
  "nbformat": 4,
  "nbformat_minor": 0,
  "metadata": {
    "colab": {
      "name": "dummy_DNN.ipynb",
      "provenance": [],
      "collapsed_sections": [],
      "include_colab_link": true
    },
    "kernelspec": {
      "name": "python3",
      "display_name": "Python 3"
    }
  },
  "cells": [
    {
      "cell_type": "markdown",
      "metadata": {
        "id": "view-in-github",
        "colab_type": "text"
      },
      "source": [
        "<a href=\"https://colab.research.google.com/github/tommycwong/dummy_DNN/blob/main/dummy_DNN.ipynb\" target=\"_parent\"><img src=\"https://colab.research.google.com/assets/colab-badge.svg\" alt=\"Open In Colab\"/></a>"
      ]
    },
    {
      "cell_type": "markdown",
      "metadata": {
        "id": "h6zVN0hOaWbB"
      },
      "source": [
        "## Regression with a neural network in PyTorch"
      ]
    },
    {
      "cell_type": "markdown",
      "metadata": {
        "id": "Z8OhuIHdaMU-"
      },
      "source": [
        "Created: February 2019\n",
        "\n",
        "Author: Maxim Ziatdinov\n",
        "\n",
        "Email: ziatdinovmax@gmail.com"
      ]
    },
    {
      "cell_type": "markdown",
      "metadata": {
        "id": "OVkkU3tCU3TM"
      },
      "source": [
        "\n",
        "---\n",
        "\n",
        "Neural networks are [universal function approximators](https://en.wikipedia.org/wiki/Universal_approximation_theorem). Here, as a simple illustration, we will generate data points using $e^{0.2x} \\times sin(x)$ function, corrupt the produced data by random noise and then will \"fit\" the target distribution with a neural network. Our regressor will be implemented using [PyTorch](https://pytorch.org/) deep/machine learning framework.\n",
        "\n",
        "---"
      ]
    },
    {
      "cell_type": "markdown",
      "metadata": {
        "id": "lLGvXGo2S-q1"
      },
      "source": [
        "Imports:"
      ]
    },
    {
      "cell_type": "code",
      "metadata": {
        "id": "17n6sGAnRuOu",
        "outputId": "45ac6306-3c61-4392-aee5-b96a62c36337",
        "colab": {
          "base_uri": "https://localhost:8080/",
          "height": 34
        }
      },
      "source": [
        "import torch\n",
        "print(torch.__version__)\n",
        "import matplotlib.pyplot as plt"
      ],
      "execution_count": 5,
      "outputs": [
        {
          "output_type": "stream",
          "text": [
            "1.6.0+cu101\n"
          ],
          "name": "stdout"
        }
      ]
    },
    {
      "cell_type": "markdown",
      "metadata": {
        "id": "alOdwe8ZSszX"
      },
      "source": [
        "Define a helper function that set seeds for generating random numbers (for reproducibility):"
      ]
    },
    {
      "cell_type": "code",
      "metadata": {
        "id": "gZtKXst9SOGu"
      },
      "source": [
        "def rng_seed(seed):\n",
        "    torch.manual_seed(seed)\n",
        "    if torch.cuda.is_available(): # for GPU\n",
        "        torch.cuda.manual_seed(seed)\n",
        "        torch.backends.cudnn.deterministic = True\n",
        "        torch.backends.cudnn.benchmark = False"
      ],
      "execution_count": 6,
      "outputs": []
    },
    {
      "cell_type": "markdown",
      "metadata": {
        "id": "w_PUglhsTBVC"
      },
      "source": [
        "Generate regression set:"
      ]
    },
    {
      "cell_type": "code",
      "metadata": {
        "id": "35Rm6QWvTNY7"
      },
      "source": [
        "rng_seed(1)\n",
        "x = torch.unsqueeze(torch.arange(-10, 10, 0.01), dim=1)\n",
        "y = torch.sin(x)*torch.exp(.2*x) + 0.2*torch.randn(x.size())"
      ],
      "execution_count": 7,
      "outputs": []
    },
    {
      "cell_type": "markdown",
      "metadata": {
        "id": "XqLGlzgFTbtf"
      },
      "source": [
        "Plot generated set:"
      ]
    },
    {
      "cell_type": "code",
      "metadata": {
        "id": "HzFr5bs1TYqT",
        "outputId": "9d0bec73-cb44-41e1-8cd0-cfec18eabcae",
        "colab": {
          "base_uri": "https://localhost:8080/",
          "height": 355
        }
      },
      "source": [
        "_, ax = plt.subplots(1, 1, figsize=(8, 5))\n",
        "ax.scatter(x, y, s=3)\n",
        "ax.set_xlabel('x', fontsize=14, style='italic')\n",
        "ax.set_ylabel('y', fontsize=14, style='italic')"
      ],
      "execution_count": 8,
      "outputs": [
        {
          "output_type": "execute_result",
          "data": {
            "text/plain": [
              "Text(0, 0.5, 'y')"
            ]
          },
          "metadata": {
            "tags": []
          },
          "execution_count": 8
        },
        {
          "output_type": "display_data",
          "data": {
            "image/png": "[encoded data removed]",
            "text/plain": [
              "<Figure size 576x360 with 1 Axes>"
            ]
          },
          "metadata": {
            "tags": [],
            "needs_background": "light"
          }
        }
      ]
    },
    {
      "cell_type": "markdown",
      "metadata": {
        "id": "lKY_X04Wcfxx"
      },
      "source": [
        "We are now going to constuct a simple neural network to fit the data distribution. Our neural network has just two [fully-connected layers](https://en.wikipedia.org/wiki/Multilayer_perceptron), each with 100 neurons, activated by [leaky rectified linear unit function](https://towardsdatascience.com/activation-functions-and-its-types-which-is-better-a9a5310cc8f). We will use Pytorch sequential container to build this simple model (later we will show how to construct a model in the object-oriented way):"
      ]
    },
    {
      "cell_type": "markdown",
      "metadata": {
        "id": "pfHTdbTK_2QZ"
      },
      "source": [
        "Build a model:"
      ]
    },
    {
      "cell_type": "code",
      "metadata": {
        "id": "Td1tsIA8BXP6"
      },
      "source": [
        "rng_seed(1)\n",
        "\n",
        "model = torch.nn.Sequential(\n",
        "        torch.nn.Linear(in_features=1, out_features=100),\n",
        "        torch.nn.LeakyReLU(),\n",
        "        torch.nn.Linear(in_features=100, out_features=100),\n",
        "        torch.nn.LeakyReLU(),\n",
        "        torch.nn.Linear(in_features=100, out_features=1),\n",
        "    )"
      ],
      "execution_count": 9,
      "outputs": []
    },
    {
      "cell_type": "markdown",
      "metadata": {
        "id": "Vr3tyn6Z_4hQ"
      },
      "source": [
        "Move our model together with the training data to a GPU device if it is available:"
      ]
    },
    {
      "cell_type": "code",
      "metadata": {
        "id": "KGl8g4wf_6zy"
      },
      "source": [
        "if torch.cuda.is_available():\n",
        "    model.cuda()\n",
        "    x = x.cuda()\n",
        "    y = y.cuda()"
      ],
      "execution_count": 10,
      "outputs": []
    },
    {
      "cell_type": "markdown",
      "metadata": {
        "id": "iM6MQFFJ__po"
      },
      "source": [
        "Specify parameters for model training, namely weights optimizer and loss function (criterion):"
      ]
    },
    {
      "cell_type": "code",
      "metadata": {
        "id": "7P9RHym_ABAQ"
      },
      "source": [
        "optimizer = torch.optim.Adam(model.parameters(), lr=5e-4) # Adam optimizer\n",
        "criterion = torch.nn.MSELoss() # mean-squared loss"
      ],
      "execution_count": 11,
      "outputs": []
    },
    {
      "cell_type": "markdown",
      "metadata": {
        "id": "wSEM2ih3AZxp"
      },
      "source": [
        "Finally, we train our simple model:\n",
        "\n",
        "(this should take  ~1 minute)"
      ]
    },
    {
      "cell_type": "code",
      "metadata": {
        "id": "nMbfh96I-wnP",
        "outputId": "bc4b0547-62b1-45cb-86df-8b6515bd50e1",
        "colab": {
          "base_uri": "https://localhost:8080/",
          "height": 442
        }
      },
      "source": [
        "EPOCHS = 2500 # number of training \"cycles\"\n",
        "\n",
        "losses = []\n",
        "for e in range(EPOCHS):\n",
        "    # clear gradients\n",
        "    optimizer.zero_grad()\n",
        "    # propagate variable x through a network and get model's prediction\n",
        "    y_predicted = model(x)\n",
        "    # compare predicted value with true value and calculate mean squared error\n",
        "    loss = criterion(y_predicted, y)\n",
        "    # do backpropagation to compute gradients\n",
        "    loss.backward()\n",
        "    # optimize weights\n",
        "    optimizer.step() \n",
        "    # save loss\n",
        "    losses.append(loss.item())\n",
        "    # print statistics\n",
        "    if e % 100 == 0:\n",
        "        print('Epoch: {}  Loss: {}'.format(e, loss.item()))"
      ],
      "execution_count": 12,
      "outputs": [
        {
          "output_type": "stream",
          "text": [
            "Epoch: 0  Loss: 2.6368918418884277\n",
            "Epoch: 100  Loss: 2.1114261150360107\n",
            "Epoch: 200  Loss: 1.6979832649230957\n",
            "Epoch: 300  Loss: 1.5158439874649048\n",
            "Epoch: 400  Loss: 1.2588313817977905\n",
            "Epoch: 500  Loss: 0.9235959649085999\n",
            "Epoch: 600  Loss: 0.6113874316215515\n",
            "Epoch: 700  Loss: 0.3878205120563507\n",
            "Epoch: 800  Loss: 0.2554550766944885\n",
            "Epoch: 900  Loss: 0.1912885308265686\n",
            "Epoch: 1000  Loss: 0.12690575420856476\n",
            "Epoch: 1100  Loss: 0.09936734288930893\n",
            "Epoch: 1200  Loss: 0.0817256048321724\n",
            "Epoch: 1300  Loss: 0.070976622402668\n",
            "Epoch: 1400  Loss: 0.06342439353466034\n",
            "Epoch: 1500  Loss: 0.05830910801887512\n",
            "Epoch: 1600  Loss: 0.05484515428543091\n",
            "Epoch: 1700  Loss: 0.05126699060201645\n",
            "Epoch: 1800  Loss: 0.04921664297580719\n",
            "Epoch: 1900  Loss: 0.04789046198129654\n",
            "Epoch: 2000  Loss: 0.04862631857395172\n",
            "Epoch: 2100  Loss: 0.04853148013353348\n",
            "Epoch: 2200  Loss: 0.044812556356191635\n",
            "Epoch: 2300  Loss: 0.04503784701228142\n",
            "Epoch: 2400  Loss: 0.0465669147670269\n"
          ],
          "name": "stdout"
        }
      ]
    },
    {
      "cell_type": "markdown",
      "metadata": {
        "id": "JkXAcwHFXF0w"
      },
      "source": [
        "Notice that to re-run the model training, you will need to re-initialize your model first ([in this cell](#scrollTo=Td1tsIA8BXP6)).\n",
        "\n"
      ]
    },
    {
      "cell_type": "markdown",
      "metadata": {
        "id": "OhNgQrp_X2hi"
      },
      "source": [
        "Plot the training loss history:"
      ]
    },
    {
      "cell_type": "code",
      "metadata": {
        "id": "Dq_OTDbvWthB",
        "outputId": "fe75bf55-f451-4243-d9c1-75b27c90f70b",
        "colab": {
          "base_uri": "https://localhost:8080/",
          "height": 296
        }
      },
      "source": [
        "plt.plot(losses, c='black', linewidth=2)\n",
        "plt.xlabel('Epochs')\n",
        "plt.ylabel('Training loss')"
      ],
      "execution_count": 13,
      "outputs": [
        {
          "output_type": "execute_result",
          "data": {
            "text/plain": [
              "Text(0, 0.5, 'Training loss')"
            ]
          },
          "metadata": {
            "tags": []
          },
          "execution_count": 13
        },
        {
          "output_type": "display_data",
          "data": {
            "image/png": "[encoded data removed]",
            "text/plain": [
              "<Figure size 432x288 with 1 Axes>"
            ]
          },
          "metadata": {
            "tags": [],
            "needs_background": "light"
          }
        }
      ]
    },
    {
      "cell_type": "markdown",
      "metadata": {
        "id": "rPuJmpUmbwyH"
      },
      "source": [
        "Transfer data back to CPU (if we used GPU) and convert it to numpy for plotting:"
      ]
    },
    {
      "cell_type": "code",
      "metadata": {
        "id": "NVgaQC31Clh2"
      },
      "source": [
        "x_to_plot = x.cpu().numpy()\n",
        "y_to_plot = y.cpu().numpy()\n",
        "y_predicted_to_plot = y_predicted.cpu().data.numpy()"
      ],
      "execution_count": 14,
      "outputs": []
    },
    {
      "cell_type": "markdown",
      "metadata": {
        "id": "bg_5ZfnFbzwY"
      },
      "source": [
        "Plot results:"
      ]
    },
    {
      "cell_type": "code",
      "metadata": {
        "id": "xGKGE90c8lr2",
        "outputId": "5a0369b4-565d-476c-9b37-c04ad8cf6093",
        "colab": {
          "base_uri": "https://localhost:8080/",
          "height": 355
        }
      },
      "source": [
        "_, ax = plt.subplots(1, 1, figsize=(8, 5))\n",
        "ax.scatter(x_to_plot, y_to_plot, s=2, label='data')\n",
        "ax.plot(x_to_plot, y_predicted_to_plot, c='orange', \n",
        "        linewidth=2.5, label='model prediction')\n",
        "ax.set_xlabel('x', fontsize=14, style='italic')\n",
        "ax.set_ylabel('y', fontsize=14, style='italic')\n",
        "ax.legend(loc='best', fontsize=8)"
      ],
      "execution_count": 15,
      "outputs": [
        {
          "output_type": "execute_result",
          "data": {
            "text/plain": [
              "<matplotlib.legend.Legend at 0x7f00440fc208>"
            ]
          },
          "metadata": {
            "tags": []
          },
          "execution_count": 15
        },
        {
          "output_type": "display_data",
          "data": {
            "image/png": "[encoded data removed]",
            "text/plain": [
              "<Figure size 576x360 with 1 Axes>"
            ]
          },
          "metadata": {
            "tags": [],
            "needs_background": "light"
          }
        }
      ]
    },
    {
      "cell_type": "markdown",
      "metadata": {
        "id": "MNhlBBw0bi9w"
      },
      "source": [
        "Now let's define the same model in the object-oriented way. While simple networks can be written using the sequential container (as in the example above), more complex networks are typically defined in the object-oriented way. To  do this, first we need to specify model parameters (using ```__init__```) and then outline how they are applied to the inputs (using ```forward```)."
      ]
    },
    {
      "cell_type": "code",
      "metadata": {
        "id": "mLAGrutiWESB"
      },
      "source": [
        "class NNRegressor(torch.nn.Module):\n",
        "    \"\"\"2-layer neural network for regression\"\"\"\n",
        "    def __init__(self, nb_neurons):\n",
        "        \"\"\"Initialization of model parameters\"\"\"\n",
        "        super(NNRegressor, self).__init__()\n",
        "        self.layer1 = torch.nn.Linear(1, nb_neurons)\n",
        "        self.layer2 = torch.nn.Linear(nb_neurons, nb_neurons)\n",
        "        self.output_layer = torch.nn.Linear(nb_neurons, 1)\n",
        "        self.lrelu = torch.nn.functional.leaky_relu\n",
        "\n",
        "    def forward(self, x):\n",
        "        \"\"\"Forward path\"\"\"\n",
        "        l1 = self.lrelu(self.layer1(x))\n",
        "        l2 = self.lrelu(self.layer2(l1))\n",
        "        return self.output_layer(l2)"
      ],
      "execution_count": 16,
      "outputs": []
    },
    {
      "cell_type": "markdown",
      "metadata": {
        "id": "7XpoaiF_j3jU"
      },
      "source": [
        "Next we initalize our model and specify the same training parameters as before:"
      ]
    },
    {
      "cell_type": "code",
      "metadata": {
        "id": "BD8qbG79dNZ6"
      },
      "source": [
        "rng_seed(1)\n",
        "# Itialize our model\n",
        "model = NNRegressor(nb_neurons=100)\n",
        "# Move to GPU (if available)\n",
        "if torch.cuda.is_available():\n",
        "    model.cuda()\n",
        "    x = x.cuda()\n",
        "    y = y.cuda()\n",
        "# Specify weights optimizer and loss function (criterion)\n",
        "optimizer = torch.optim.Adam(model.parameters(), lr=5e-4) # Adam optimizer\n",
        "criterion = torch.nn.MSELoss() # mean-squared loss"
      ],
      "execution_count": 17,
      "outputs": []
    },
    {
      "cell_type": "markdown",
      "metadata": {
        "id": "bgLOCuR1gIBZ"
      },
      "source": [
        "Train a model:"
      ]
    },
    {
      "cell_type": "code",
      "metadata": {
        "id": "_ECD11higHK-",
        "outputId": "0bece667-62c8-4977-b07a-d0e2f8758d86",
        "colab": {
          "base_uri": "https://localhost:8080/",
          "height": 442
        }
      },
      "source": [
        "EPOCHS = 2500 # number of training \"cycles\"\n",
        "\n",
        "losses = []\n",
        "for e in range(EPOCHS):\n",
        "    # clear gradients\n",
        "    optimizer.zero_grad()\n",
        "    # propagate variable x through a network and get model's prediction\n",
        "    y_predicted = model(x)\n",
        "    # compare predicted value with true value and calculate mean squared error\n",
        "    loss = criterion(y_predicted, y)\n",
        "    # do backpropagation to compute gradients\n",
        "    loss.backward()\n",
        "    # optimize weights\n",
        "    optimizer.step() \n",
        "    # save loss\n",
        "    losses.append(loss.item())\n",
        "    # print statistics\n",
        "    if e % 100 == 0:\n",
        "        print('Epoch: {}  Loss: {}'.format(e, loss.item()))"
      ],
      "execution_count": 18,
      "outputs": [
        {
          "output_type": "stream",
          "text": [
            "Epoch: 0  Loss: 2.6368918418884277\n",
            "Epoch: 100  Loss: 2.1114261150360107\n",
            "Epoch: 200  Loss: 1.6979832649230957\n",
            "Epoch: 300  Loss: 1.5158439874649048\n",
            "Epoch: 400  Loss: 1.2588313817977905\n",
            "Epoch: 500  Loss: 0.9235959649085999\n",
            "Epoch: 600  Loss: 0.6113874316215515\n",
            "Epoch: 700  Loss: 0.3878205120563507\n",
            "Epoch: 800  Loss: 0.2554550766944885\n",
            "Epoch: 900  Loss: 0.1912885308265686\n",
            "Epoch: 1000  Loss: 0.12690575420856476\n",
            "Epoch: 1100  Loss: 0.09936734288930893\n",
            "Epoch: 1200  Loss: 0.0817256048321724\n",
            "Epoch: 1300  Loss: 0.070976622402668\n",
            "Epoch: 1400  Loss: 0.06342439353466034\n",
            "Epoch: 1500  Loss: 0.05830910801887512\n",
            "Epoch: 1600  Loss: 0.05484515428543091\n",
            "Epoch: 1700  Loss: 0.05126699060201645\n",
            "Epoch: 1800  Loss: 0.04921664297580719\n",
            "Epoch: 1900  Loss: 0.04789046198129654\n",
            "Epoch: 2000  Loss: 0.04862631857395172\n",
            "Epoch: 2100  Loss: 0.04853148013353348\n",
            "Epoch: 2200  Loss: 0.044812556356191635\n",
            "Epoch: 2300  Loss: 0.04503784701228142\n",
            "Epoch: 2400  Loss: 0.0465669147670269\n"
          ],
          "name": "stdout"
        }
      ]
    },
    {
      "cell_type": "markdown",
      "metadata": {
        "id": "RLz6J3ThgHLL"
      },
      "source": [
        "To re-train your model, you will need to re-initialize it ([in this cell](#scrollTo=BD8qbG79dNZ6))."
      ]
    },
    {
      "cell_type": "markdown",
      "metadata": {
        "id": "DLhkKliagHLN"
      },
      "source": [
        "Plot the training loss history:"
      ]
    },
    {
      "cell_type": "code",
      "metadata": {
        "id": "xWeECFnwgHLS",
        "outputId": "fcd9dce7-0f5f-4af0-ba65-360c74718732",
        "colab": {
          "base_uri": "https://localhost:8080/",
          "height": 296
        }
      },
      "source": [
        "plt.plot(losses, c='black', linewidth=2)\n",
        "plt.xlabel('Epochs')\n",
        "plt.ylabel('Training loss')"
      ],
      "execution_count": 19,
      "outputs": [
        {
          "output_type": "execute_result",
          "data": {
            "text/plain": [
              "Text(0, 0.5, 'Training loss')"
            ]
          },
          "metadata": {
            "tags": []
          },
          "execution_count": 19
        },
        {
          "output_type": "display_data",
          "data": {
            "image/png": "[encoded data removed]",
            "text/plain": [
              "<Figure size 432x288 with 1 Axes>"
            ]
          },
          "metadata": {
            "tags": [],
            "needs_background": "light"
          }
        }
      ]
    },
    {
      "cell_type": "markdown",
      "metadata": {
        "id": "w_rDQjBggHLg"
      },
      "source": [
        "Transfer data back to CPU (if we used GPU for training) and convert it to numpy array for plotting:"
      ]
    },
    {
      "cell_type": "code",
      "metadata": {
        "id": "ydueJEnbgHLm"
      },
      "source": [
        "x_to_plot = x.cpu().numpy()\n",
        "y_to_plot = y.cpu().numpy()\n",
        "y_predicted_to_plot = y_predicted.cpu().data.numpy()"
      ],
      "execution_count": 20,
      "outputs": []
    },
    {
      "cell_type": "markdown",
      "metadata": {
        "id": "0d7I56SxgHLz"
      },
      "source": [
        "Plot results:"
      ]
    },
    {
      "cell_type": "code",
      "metadata": {
        "id": "bryTAARggHL1",
        "outputId": "a9f70d51-a98f-4e51-973b-4e46e5b4ac8a",
        "colab": {
          "base_uri": "https://localhost:8080/",
          "height": 355
        }
      },
      "source": [
        "_, ax = plt.subplots(1, 1, figsize=(8, 5))\n",
        "ax.scatter(x_to_plot, y_to_plot, s=2, label='data')\n",
        "ax.plot(x_to_plot, y_predicted_to_plot, c='orange', \n",
        "        linewidth=2.5, label='model prediction')\n",
        "ax.set_xlabel('x', fontsize=14, style='italic')\n",
        "ax.set_ylabel('y', fontsize=14, style='italic')\n",
        "ax.legend(loc='best', fontsize=8)"
      ],
      "execution_count": 21,
      "outputs": [
        {
          "output_type": "execute_result",
          "data": {
            "text/plain": [
              "<matplotlib.legend.Legend at 0x7f0044057940>"
            ]
          },
          "metadata": {
            "tags": []
          },
          "execution_count": 21
        },
        {
          "output_type": "display_data",
          "data": {
            "image/png": "[encoded data removed]",
            "text/plain": [
              "<Figure size 576x360 with 1 Axes>"
            ]
          },
          "metadata": {
            "tags": [],
            "needs_background": "light"
          }
        }
      ]
    },
    {
      "cell_type": "markdown",
      "metadata": {
        "id": "VU9SJ45rf7Ys"
      },
      "source": [
        "Now let's see how good is our model at making predictions for new data points."
      ]
    },
    {
      "cell_type": "code",
      "metadata": {
        "id": "QJMgFc4R1JUG",
        "outputId": "54af0753-cd2c-443f-9bb4-e07ee7c4fdf6",
        "colab": {
          "base_uri": "https://localhost:8080/",
          "height": 68
        }
      },
      "source": [
        "new_data_point = 2.575\n",
        "print(\"Is this a new data point?\", new_data_point not in x)\n",
        "new_var = torch.Tensor([[new_data_point]])\n",
        "print(\"Trained model predicton:\", model(new_var).item())\n",
        "print(\"True value:\", (torch.sin(new_var)*torch.exp(.2*new_var)).item())"
      ],
      "execution_count": 22,
      "outputs": [
        {
          "output_type": "stream",
          "text": [
            "Is this a new data point? True\n",
            "Trained model predicton: 0.9008738994598389\n",
            "True value: 0.8983426094055176\n"
          ],
          "name": "stdout"
        }
      ]
    },
    {
      "cell_type": "code",
      "metadata": {
        "id": "tAWpAv2z1lKy"
      },
      "source": [
        ""
      ],
      "execution_count": 22,
      "outputs": []
    }
  ]
}